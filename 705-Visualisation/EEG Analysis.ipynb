{
 "cells": [
  {
   "cell_type": "markdown",
   "metadata": {},
   "source": [
    "# CS705 Project Implementation: Data Visualisation\n",
    "<br>"
   ]
  },
  {
   "cell_type": "markdown",
   "metadata": {},
   "source": [
    "### Module Imports\n",
    "Importing all required modules for data visualisation."
   ]
  },
  {
   "cell_type": "code",
   "execution_count": 1,
   "metadata": {},
   "outputs": [],
   "source": [
    "import plotly as py\n",
    "py.tools.set_credentials_file(username='ssin735',api_key='M2eZJJ4aN4Fz9W3XWo1w')\n",
    "\n",
    "import plotly.plotly as py\n",
    "import plotly.graph_objs as go\n",
    "import plotly.figure_factory as FF\n",
    "\n",
    "import numpy as np\n",
    "import pandas as pd\n",
    "\n",
    "import warnings\n",
    "warnings.filterwarnings('ignore')"
   ]
  },
  {
   "cell_type": "markdown",
   "metadata": {},
   "source": [
    "<hr><br>\n",
    "### Reading in original CSV data \n",
    "- 5 minutes of data for each game: 512 Hz\n",
    "- Every second recorded is broken down into 512 further readings \n",
    "- Overall approximately: 5 mins x 60 sec x 512 = 153600 rows of data"
   ]
  },
  {
   "cell_type": "markdown",
   "metadata": {},
   "source": [
    "#### Big Rigs: Over the Road Racing (Low Rated Game)"
   ]
  },
  {
   "cell_type": "code",
   "execution_count": 2,
   "metadata": {},
   "outputs": [],
   "source": [
    "origBR = pd.read_csv('C:/Users/Sabaoon Raza Khan/project-5-c/705-Visualisation/CSV-Data/BigRigs.csv', low_memory=False)"
   ]
  },
  {
   "cell_type": "markdown",
   "metadata": {},
   "source": [
    "#### Need for Speed: Hot Pursuit 2 (Average Rated Game)"
   ]
  },
  {
   "cell_type": "code",
   "execution_count": 3,
   "metadata": {},
   "outputs": [],
   "source": [
    "origHP = pd.read_csv('C:/Users/Sabaoon Raza Khan/project-5-c/705-Visualisation/CSV-Data/NFS-HP2.csv', low_memory=False)"
   ]
  },
  {
   "cell_type": "markdown",
   "metadata": {},
   "source": [
    "#### GTR 2: FIA GT Racing Game (High Rated Game)"
   ]
  },
  {
   "cell_type": "code",
   "execution_count": 4,
   "metadata": {},
   "outputs": [],
   "source": [
    "origGT = pd.read_csv('C:/Users/Sabaoon Raza Khan/project-5-c/705-Visualisation/CSV-Data/GTR2.csv', low_memory=False)"
   ]
  },
  {
   "cell_type": "markdown",
   "metadata": {},
   "source": [
    "<hr><br>\n",
    "### Plotting original data:\n",
    "- Electrode: Raw signal data from Neurosky Mindwave device\n",
    "- Attention: Proprietary eSense signals built-in to the Mindwave device  \n",
    "- Meditation: Proprietary eSense signals built-in to the Mindwave device  "
   ]
  },
  {
   "cell_type": "markdown",
   "metadata": {},
   "source": [
    "#### Big Rigs: Over the Road Racing (Low Rated Game)"
   ]
  },
  {
   "cell_type": "code",
   "execution_count": 5,
   "metadata": {},
   "outputs": [
    {
     "name": "stdout",
     "output_type": "stream",
     "text": [
      "High five! You successfully sent some data to your account on plotly. View your plot in your browser at https://plot.ly/~ssin735/0 or inside your plot.ly account where it is named 'plot-from-orig-br0-csv'\n"
     ]
    },
    {
     "data": {
      "text/html": [
       "<iframe id=\"igraph\" scrolling=\"no\" style=\"border:none;\" seamless=\"seamless\" src=\"https://plot.ly/~ssin735/0.embed\" height=\"525px\" width=\"100%\"></iframe>"
      ],
      "text/plain": [
       "<plotly.tools.PlotlyDisplay object>"
      ]
     },
     "execution_count": 5,
     "metadata": {},
     "output_type": "execute_result"
    }
   ],
   "source": [
    "br01 = go.Scatter(\n",
    "                    y=origBR['Electrode'], x=origBR['Time:512Hz'], # Data\n",
    "                    mode='lines', name='Electrode' # Additional options\n",
    "                   )\n",
    "br02 = go.Scatter(y=origBR['Attention'], x=origBR['Time:512Hz'], mode='lines', name='Attention' )\n",
    "br03 = go.Scatter(y=origBR['Meditation'], x=origBR['Time:512Hz'], mode='lines', name='Meditation')\n",
    "\n",
    "layout_br0 = go.Layout(title='Plot of Original Big Rigs CSV Data',\n",
    "                   plot_bgcolor='rgb(230, 230, 230)')\n",
    "\n",
    "fig_br0 = go.Figure(data=[br01, br02, br03], layout=layout_br0)\n",
    "\n",
    "# Plot data in the notebook\n",
    "py.iplot(fig_br0, filename='plot-from-orig-br0-csv')"
   ]
  },
  {
   "cell_type": "markdown",
   "metadata": {},
   "source": [
    "#### Need for Speed: Hot Pursuit 2 (Average Rated Game)"
   ]
  },
  {
   "cell_type": "code",
   "execution_count": 6,
   "metadata": {},
   "outputs": [
    {
     "name": "stdout",
     "output_type": "stream",
     "text": [
      "The draw time for this plot will be slow for all clients.\n"
     ]
    },
    {
     "data": {
      "text/html": [
       "<iframe id=\"igraph\" scrolling=\"no\" style=\"border:none;\" seamless=\"seamless\" src=\"https://plot.ly/~ssin735/2.embed\" height=\"525px\" width=\"100%\"></iframe>"
      ],
      "text/plain": [
       "<plotly.tools.PlotlyDisplay object>"
      ]
     },
     "execution_count": 6,
     "metadata": {},
     "output_type": "execute_result"
    }
   ],
   "source": [
    "hp01 = go.Scatter(\n",
    "                    y=origHP['Electrode'], x=origHP['Time:512Hz'], # Data\n",
    "                    mode='lines', name='Electrode' # Additional options\n",
    "                   )\n",
    "hp02 = go.Scatter(y=origHP['Attention'], x=origHP['Time:512Hz'], mode='lines', name='Attention' )\n",
    "hp03 = go.Scatter(y=origHP['Meditation'], x=origHP['Time:512Hz'], mode='lines', name='Meditation')\n",
    "\n",
    "layout_hp0 = go.Layout(title='Plot of Original Hot Pursuit CSV Data',\n",
    "                   plot_bgcolor='rgb(230, 230, 230)')\n",
    "\n",
    "fig_hp0 = go.Figure(data=[hp01, hp02, hp03], layout=layout_hp0)\n",
    "\n",
    "# Plot data in the notebook\n",
    "py.iplot(fig_hp0, filename='plot-from-orig-hp0-csv')"
   ]
  },
  {
   "cell_type": "markdown",
   "metadata": {},
   "source": [
    "#### GTR 2: FIA GT Racing Game (High Rated Game)"
   ]
  },
  {
   "cell_type": "code",
   "execution_count": 7,
   "metadata": {},
   "outputs": [
    {
     "name": "stdout",
     "output_type": "stream",
     "text": [
      "The draw time for this plot will be slow for all clients.\n"
     ]
    },
    {
     "data": {
      "text/html": [
       "<iframe id=\"igraph\" scrolling=\"no\" style=\"border:none;\" seamless=\"seamless\" src=\"https://plot.ly/~ssin735/4.embed\" height=\"525px\" width=\"100%\"></iframe>"
      ],
      "text/plain": [
       "<plotly.tools.PlotlyDisplay object>"
      ]
     },
     "execution_count": 7,
     "metadata": {},
     "output_type": "execute_result"
    }
   ],
   "source": [
    "gt01 = go.Scatter(\n",
    "                    y=origGT['Electrode'], x=origGT['Time:512Hz'], # Data\n",
    "                    mode='lines', name='Electrode' # Additional options\n",
    "                   )\n",
    "gt02 = go.Scatter(y=origGT['Attention'], x=origGT['Time:512Hz'], mode='lines', name='Attention' )\n",
    "gt03 = go.Scatter(y=origGT['Meditation'], x=origGT['Time:512Hz'], mode='lines', name='Meditation')\n",
    "\n",
    "layout_gt0 = go.Layout(title='Plot of Original GTR2 CSV Data',\n",
    "                   plot_bgcolor='rgb(230, 230, 230)')\n",
    "\n",
    "fig_gt0 = go.Figure(data=[gt01, gt02, gt03], layout=layout_gt0)\n",
    "\n",
    "# Plot data in the notebook\n",
    "py.iplot(fig_gt0, filename='plot-from-orig-gt0-csv')"
   ]
  },
  {
   "cell_type": "markdown",
   "metadata": {},
   "source": [
    "<hr><br>\n",
    "### Averaging values for every second: "
   ]
  },
  {
   "cell_type": "markdown",
   "metadata": {},
   "source": [
    "#### Big Rigs: Over the Road Racing (Low Rated Game)"
   ]
  },
  {
   "cell_type": "code",
   "execution_count": 8,
   "metadata": {},
   "outputs": [
    {
     "data": {
      "text/html": [
       "<iframe id=\"igraph\" scrolling=\"no\" style=\"border:none;\" seamless=\"seamless\" src=\"https://plot.ly/~ssin735/6.embed\" height=\"230px\" width=\"100%\"></iframe>"
      ],
      "text/plain": [
       "<plotly.tools.PlotlyDisplay object>"
      ]
     },
     "execution_count": 8,
     "metadata": {},
     "output_type": "execute_result"
    }
   ],
   "source": [
    "averagedBR = origBR.groupby(np.arange(len(origBR))//512).mean()\n",
    "\n",
    "BR_table = FF.create_table(averagedBR.head())\n",
    "py.iplot(BR_table, filename='BR-table')"
   ]
  },
  {
   "cell_type": "markdown",
   "metadata": {},
   "source": [
    "#### Need for Speed: Hot Pursuit 2 (Average Rated Game)"
   ]
  },
  {
   "cell_type": "code",
   "execution_count": 9,
   "metadata": {},
   "outputs": [
    {
     "data": {
      "text/html": [
       "<iframe id=\"igraph\" scrolling=\"no\" style=\"border:none;\" seamless=\"seamless\" src=\"https://plot.ly/~ssin735/8.embed\" height=\"230px\" width=\"100%\"></iframe>"
      ],
      "text/plain": [
       "<plotly.tools.PlotlyDisplay object>"
      ]
     },
     "execution_count": 9,
     "metadata": {},
     "output_type": "execute_result"
    }
   ],
   "source": [
    "averagedHP = origHP.groupby(np.arange(len(origHP))//512).mean()\n",
    "\n",
    "HP_table = FF.create_table(averagedHP.head())\n",
    "py.iplot(HP_table, filename='HP-table')"
   ]
  },
  {
   "cell_type": "markdown",
   "metadata": {},
   "source": [
    "#### GTR 2: FIA GT Racing Game (High Rated Game)"
   ]
  },
  {
   "cell_type": "code",
   "execution_count": 10,
   "metadata": {},
   "outputs": [
    {
     "data": {
      "text/html": [
       "<iframe id=\"igraph\" scrolling=\"no\" style=\"border:none;\" seamless=\"seamless\" src=\"https://plot.ly/~ssin735/10.embed\" height=\"230px\" width=\"100%\"></iframe>"
      ],
      "text/plain": [
       "<plotly.tools.PlotlyDisplay object>"
      ]
     },
     "execution_count": 10,
     "metadata": {},
     "output_type": "execute_result"
    }
   ],
   "source": [
    "averagedGT = origGT.groupby(np.arange(len(origGT))//512).mean()\n",
    "\n",
    "GT_table = FF.create_table(averagedGT.head())\n",
    "py.iplot(GT_table, filename='GT-table')"
   ]
  },
  {
   "cell_type": "markdown",
   "metadata": {},
   "source": [
    "<hr><br>\n",
    "### Creating line data for each brainwave signal against time:"
   ]
  },
  {
   "cell_type": "markdown",
   "metadata": {},
   "source": [
    "#### Big Rigs: Over the Road Racing (Low Rated Game)"
   ]
  },
  {
   "cell_type": "code",
   "execution_count": 11,
   "metadata": {},
   "outputs": [],
   "source": [
    "brRaw = go.Scatter(\n",
    "                    y=averagedBR['Electrode'], x=averagedBR['Time:512Hz'], # Data\n",
    "                    mode='lines', name='Big Rigs Electrode' # Additional options\n",
    "                   )\n",
    "brAtt = go.Scatter(y=averagedBR['Attention'], x=averagedBR['Time:512Hz'], mode='lines', name='Big Rigs Attention' )\n",
    "brMed = go.Scatter(y=averagedBR['Meditation'], x=averagedBR['Time:512Hz'], mode='lines', name='Big Rigs Meditation')\n",
    "brDelta = go.Scatter(y=averagedBR['Delta'], x=averagedBR['Time:512Hz'], mode='lines', name='Big Rigs Delta')\n",
    "brTheta = go.Scatter(y=averagedBR['Theta'], x=averagedBR['Time:512Hz'], mode='lines', name='Big Rigs Theta')\n",
    "brLA = go.Scatter(y=averagedBR['Low Alpha'], x=averagedBR['Time:512Hz'], mode='lines', name='Big Rigs Low Alpha')\n",
    "brHA = go.Scatter(y=averagedBR['High Alpha'], x=averagedBR['Time:512Hz'], mode='lines', name='Big Rigs High Alpha')\n",
    "brLB = go.Scatter(y=averagedBR['Low Beta'], x=averagedBR['Time:512Hz'], mode='lines', name='Big Rigs Low Beta')\n",
    "brHB = go.Scatter(y=averagedBR['High Beta'], x=averagedBR['Time:512Hz'], mode='lines', name='Big Rigs High Beta')\n",
    "brLG = go.Scatter(y=averagedBR['Low Gamma'], x=averagedBR['Time:512Hz'], mode='lines', name='Big Rigs Low Gamma')\n",
    "brMG = go.Scatter(y=averagedBR['Mid Gamma'], x=averagedBR['Time:512Hz'], mode='lines', name='Big Rigs Mid Gamma')"
   ]
  },
  {
   "cell_type": "markdown",
   "metadata": {},
   "source": [
    "#### Need for Speed: Hot Pursuit 2 (Average Rated Game)"
   ]
  },
  {
   "cell_type": "code",
   "execution_count": 12,
   "metadata": {},
   "outputs": [],
   "source": [
    "hpRaw = go.Scatter(\n",
    "                    y=averagedHP['Electrode'], x=averagedHP['Time:512Hz'], # Data\n",
    "                    mode='lines', name='Hot Pursuit Electrode' # Additional options\n",
    "                   )\n",
    "hpAtt = go.Scatter(y=averagedHP['Attention'], x=averagedHP['Time:512Hz'], mode='lines', name='Hot Pursuit Attention' )\n",
    "hpMed = go.Scatter(y=averagedHP['Meditation'], x=averagedHP['Time:512Hz'], mode='lines', name='Hot Pursuit Meditation')\n",
    "hpDelta = go.Scatter(y=averagedHP['Delta'], x=averagedHP['Time:512Hz'], mode='lines', name='Hot Pursuit Delta')\n",
    "hpTheta = go.Scatter(y=averagedHP['Theta'], x=averagedHP['Time:512Hz'], mode='lines', name='Hot Pursuit Theta')\n",
    "hpLA = go.Scatter(y=averagedHP['Low Alpha'], x=averagedHP['Time:512Hz'], mode='lines', name='Hot Pursuit Low Alpha')\n",
    "hpHA = go.Scatter(y=averagedHP['High Alpha'], x=averagedHP['Time:512Hz'], mode='lines', name='Hot Pursuit High Alpha')\n",
    "hpLB = go.Scatter(y=averagedHP['Low Beta'], x=averagedHP['Time:512Hz'], mode='lines', name='Hot Pursuit Low Beta')\n",
    "hpHB = go.Scatter(y=averagedHP['High Beta'], x=averagedHP['Time:512Hz'], mode='lines', name='Hot Pursuit High Beta')\n",
    "hpLG = go.Scatter(y=averagedHP['Low Gamma'], x=averagedHP['Time:512Hz'], mode='lines', name='Hot Pursuit Low Gamma')\n",
    "hpMG = go.Scatter(y=averagedHP['Mid Gamma'], x=averagedHP['Time:512Hz'], mode='lines', name='Hot Pursuit Mid Gamma')"
   ]
  },
  {
   "cell_type": "markdown",
   "metadata": {},
   "source": [
    "#### GTR 2: FIA GT Racing Game (High Rated Game)"
   ]
  },
  {
   "cell_type": "code",
   "execution_count": 13,
   "metadata": {},
   "outputs": [],
   "source": [
    "gtRaw = go.Scatter(\n",
    "                    y=averagedGT['Electrode'], x=averagedGT['Time:512Hz'], # Data\n",
    "                    mode='lines', name='GTR2 Electrode' # Additional options\n",
    "                   )\n",
    "gtAtt = go.Scatter(y=averagedGT['Attention'], x=averagedGT['Time:512Hz'], mode='lines', name='GTR2 Attention' )\n",
    "gtMed = go.Scatter(y=averagedGT['Meditation'], x=averagedGT['Time:512Hz'], mode='lines', name='GTR2 Meditation')\n",
    "gtDelta = go.Scatter(y=averagedGT['Delta'], x=averagedGT['Time:512Hz'], mode='lines', name='GTR2 Delta')\n",
    "gtTheta = go.Scatter(y=averagedGT['Theta'], x=averagedGT['Time:512Hz'], mode='lines', name='GTR2 Theta')\n",
    "gtLA = go.Scatter(y=averagedGT['Low Alpha'], x=averagedGT['Time:512Hz'], mode='lines', name='GTR2 Low Alpha')\n",
    "gtHA = go.Scatter(y=averagedGT['High Alpha'], x=averagedGT['Time:512Hz'], mode='lines', name='GTR2 High Alpha')\n",
    "gtLB = go.Scatter(y=averagedGT['Low Beta'], x=averagedGT['Time:512Hz'], mode='lines', name='GTR2 Low Beta')\n",
    "gtHB = go.Scatter(y=averagedGT['High Beta'], x=averagedGT['Time:512Hz'], mode='lines', name='GTR2 High Beta')\n",
    "gtLG = go.Scatter(y=averagedGT['Low Gamma'], x=averagedGT['Time:512Hz'], mode='lines', name='GTR2 Low Gamma')\n",
    "gtMG = go.Scatter(y=averagedGT['Mid Gamma'], x=averagedGT['Time:512Hz'], mode='lines', name='GTR2 Mid Gamma')"
   ]
  },
  {
   "cell_type": "markdown",
   "metadata": {},
   "source": [
    "<hr><br>\n",
    "### Plotting data averaged for every second:"
   ]
  },
  {
   "cell_type": "markdown",
   "metadata": {},
   "source": [
    "#### Big Rigs: Over the Road Racing (Low Rated Game)"
   ]
  },
  {
   "cell_type": "code",
   "execution_count": 14,
   "metadata": {},
   "outputs": [
    {
     "data": {
      "text/html": [
       "<iframe id=\"igraph\" scrolling=\"no\" style=\"border:none;\" seamless=\"seamless\" src=\"https://plot.ly/~ssin735/12.embed\" height=\"525px\" width=\"100%\"></iframe>"
      ],
      "text/plain": [
       "<plotly.tools.PlotlyDisplay object>"
      ]
     },
     "execution_count": 14,
     "metadata": {},
     "output_type": "execute_result"
    }
   ],
   "source": [
    "layout_brAvg = go.Layout(title='Plot of Averaged Big Rigs Data',\n",
    "                   plot_bgcolor='rgb(230, 230, 230)')\n",
    "\n",
    "fig_brAvg = go.Figure(data=[brRaw, brAtt, brMed], layout=layout_brAvg)\n",
    "\n",
    "# Plot data in the notebook\n",
    "py.iplot(fig_brAvg, filename='plot-from-brAvg-csv')"
   ]
  },
  {
   "cell_type": "markdown",
   "metadata": {},
   "source": [
    "#### Need for Speed: Hot Pursuit 2 (Average Rated Game)"
   ]
  },
  {
   "cell_type": "code",
   "execution_count": 15,
   "metadata": {},
   "outputs": [
    {
     "data": {
      "text/html": [
       "<iframe id=\"igraph\" scrolling=\"no\" style=\"border:none;\" seamless=\"seamless\" src=\"https://plot.ly/~ssin735/14.embed\" height=\"525px\" width=\"100%\"></iframe>"
      ],
      "text/plain": [
       "<plotly.tools.PlotlyDisplay object>"
      ]
     },
     "execution_count": 15,
     "metadata": {},
     "output_type": "execute_result"
    }
   ],
   "source": [
    "layout_hpAvg = go.Layout(title='Plot of Averaged Hot Pursuit Data',\n",
    "                   plot_bgcolor='rgb(230, 230, 230)')\n",
    "\n",
    "fig_hpAvg = go.Figure(data=[hpRaw, hpAtt, hpMed], layout=layout_hpAvg)\n",
    "\n",
    "# Plot data in the notebook\n",
    "py.iplot(fig_hpAvg, filename='plot-from-hpAvg-csv')"
   ]
  },
  {
   "cell_type": "markdown",
   "metadata": {},
   "source": [
    "#### GTR 2: FIA GT Racing Game (High Rated Game)"
   ]
  },
  {
   "cell_type": "code",
   "execution_count": 16,
   "metadata": {},
   "outputs": [
    {
     "data": {
      "text/html": [
       "<iframe id=\"igraph\" scrolling=\"no\" style=\"border:none;\" seamless=\"seamless\" src=\"https://plot.ly/~ssin735/16.embed\" height=\"525px\" width=\"100%\"></iframe>"
      ],
      "text/plain": [
       "<plotly.tools.PlotlyDisplay object>"
      ]
     },
     "execution_count": 16,
     "metadata": {},
     "output_type": "execute_result"
    }
   ],
   "source": [
    "layout_gtAvg = go.Layout(title='Plot of Averaged GTR2 Data',\n",
    "                   plot_bgcolor='rgb(230, 230, 230)')\n",
    "\n",
    "fig_gtAvg = go.Figure(data=[gtRaw, gtAtt, gtMed], layout=layout_gtAvg)\n",
    "\n",
    "# Plot data in the notebook\n",
    "py.iplot(fig_gtAvg, filename='plot-from-gtAvg-csv')"
   ]
  },
  {
   "cell_type": "markdown",
   "metadata": {},
   "source": [
    "<hr><br>\n",
    "### Engagement Calculation:\n",
    "- Findings by [1] suggest Index 1 [(Global Beta / (Global Alpha + Global Theta)] is the preferred algorithm for calculating the engagement levels of players playing video games.\n",
    "- So, this is the formula we'll be using to calculate player engagement levels amongst different rated games.\n",
    "\n",
    "Reference: \n",
    "- [1] McMahan, T., Parberry, I., & Parsons, T. D. (2015, June). Evaluating Electroencephalography Engagement Indices During Video Game Play. In FDG."
   ]
  },
  {
   "cell_type": "code",
   "execution_count": 17,
   "metadata": {},
   "outputs": [
    {
     "data": {
      "text/html": [
       "<iframe id=\"igraph\" scrolling=\"no\" style=\"border:none;\" seamless=\"seamless\" src=\"https://plot.ly/~ssin735/18.embed\" height=\"525px\" width=\"100%\"></iframe>"
      ],
      "text/plain": [
       "<plotly.tools.PlotlyDisplay object>"
      ]
     },
     "execution_count": 17,
     "metadata": {},
     "output_type": "execute_result"
    }
   ],
   "source": [
    "brEng = go.Scatter(\n",
    "                    y=(averagedBR['Low Beta'] + averagedBR['High Beta'])/\n",
    "                      (averagedBR['Theta'] + \n",
    "                       (averagedBR['Low Alpha'] + averagedBR['High Alpha'])), \n",
    "                    x=averagedBR['Time:512Hz'], # Data\n",
    "                    mode='lines', name='Big Rigs Engagement' # Additional options\n",
    "                   )\n",
    "\n",
    "hpEng = go.Scatter(\n",
    "                    y=(averagedHP['Low Beta'] + averagedHP['High Beta'])/\n",
    "                      (averagedHP['Theta'] + \n",
    "                       (averagedHP['Low Alpha'] + averagedHP['High Alpha'])), \n",
    "                    x=averagedHP['Time:512Hz'], # Data\n",
    "                    mode='lines', name='Hot Pursuit Engagement' # Additional options\n",
    "                   )\n",
    "\n",
    "\n",
    "gtEng = go.Scatter(\n",
    "                    y=(averagedGT['Low Beta'] + averagedGT['High Beta'])/\n",
    "                      (averagedGT['Theta'] + \n",
    "                       (averagedGT['Low Alpha'] + averagedGT['High Alpha'])), \n",
    "                    x=averagedGT['Time:512Hz'], # Data\n",
    "                    mode='lines', name='GTR2 Engagement' # Additional options\n",
    "                   )\n",
    "\n",
    "gameEng = go.Layout(title='Engagement Data',\n",
    "                   plot_bgcolor='rgb(230, 230, 230)')\n",
    "\n",
    "fig_Eng = go.Figure(data=[hpEng, brEng, gtEng], layout=gameEng)\n",
    "\n",
    "# Plot data in the notebook\n",
    "py.iplot(fig_Eng, filename='plot-from-eng-csv')"
   ]
  }
 ],
 "metadata": {
  "kernelspec": {
   "display_name": "Python 3",
   "language": "python",
   "name": "python3"
  },
  "language_info": {
   "codemirror_mode": {
    "name": "ipython",
    "version": 3
   },
   "file_extension": ".py",
   "mimetype": "text/x-python",
   "name": "python",
   "nbconvert_exporter": "python",
   "pygments_lexer": "ipython3",
   "version": "3.6.5"
  }
 },
 "nbformat": 4,
 "nbformat_minor": 2
}
