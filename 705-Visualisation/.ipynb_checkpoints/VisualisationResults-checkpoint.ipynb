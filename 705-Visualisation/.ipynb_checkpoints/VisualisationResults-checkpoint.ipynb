{
 "cells": [
  {
   "cell_type": "markdown",
   "metadata": {},
   "source": [
    "# Data Visualisation Results\n",
    "<br>"
   ]
  },
  {
   "cell_type": "markdown",
   "metadata": {},
   "source": [
    "### Module Imports\n",
    "Importing all required modules for data visualisation."
   ]
  },
  {
   "cell_type": "code",
   "execution_count": 1,
   "metadata": {},
   "outputs": [],
   "source": [
    "import plotly as py\n",
    "py.tools.set_credentials_file(username='ssin735',api_key='M2eZJJ4aN4Fz9W3XWo1w')\n",
    "\n",
    "import plotly.plotly as py\n",
    "import plotly.graph_objs as go\n",
    "import plotly.figure_factory as FF\n",
    "\n",
    "import numpy as np\n",
    "import pandas as pd\n",
    "\n",
    "import warnings\n",
    "warnings.filterwarnings('ignore')"
   ]
  },
  {
   "cell_type": "markdown",
   "metadata": {},
   "source": [
    "<hr><br>\n",
    "### Reading in original CSV data \n",
    "- 5 minutes of data for each game: 512 Hz\n",
    "- Every second recorded is broken down into 512 further readings \n",
    "- Overall approximately: 5 mins x 60 sec x 512 = 153600 rows of data"
   ]
  },
  {
   "cell_type": "markdown",
   "metadata": {},
   "source": [
    "#### Big Rigs: Over the Road Racing (Low Rated Game)"
   ]
  },
  {
   "cell_type": "code",
   "execution_count": 2,
   "metadata": {},
   "outputs": [],
   "source": [
    "origBR = pd.read_csv('C:/Users/Sabaoon Raza Khan/project-5-c/UserStudyData-JSON&CSV/BigRigs/6/0.csv', low_memory=False)"
   ]
  },
  {
   "cell_type": "markdown",
   "metadata": {},
   "source": [
    "#### Need for Speed: Hot Pursuit 2 (Average Rated Game)"
   ]
  },
  {
   "cell_type": "code",
   "execution_count": 3,
   "metadata": {},
   "outputs": [],
   "source": [
    "origHP = pd.read_csv('C:/Users/Sabaoon Raza Khan/project-5-c/UserStudyData-JSON&CSV/NFS/6/0.csv', low_memory=False)"
   ]
  },
  {
   "cell_type": "markdown",
   "metadata": {},
   "source": [
    "#### GTR 2: FIA GT Racing Game (High Rated Game)"
   ]
  },
  {
   "cell_type": "code",
   "execution_count": 4,
   "metadata": {},
   "outputs": [],
   "source": [
    "origGT = pd.read_csv('C:/Users/Sabaoon Raza Khan/project-5-c/UserStudyData-JSON&CSV/GTR2/6/0.csv', low_memory=False)"
   ]
  },
  {
   "cell_type": "markdown",
   "metadata": {},
   "source": [
    "<hr><br>\n",
    "### Averaging values for every second: "
   ]
  },
  {
   "cell_type": "code",
   "execution_count": 5,
   "metadata": {},
   "outputs": [],
   "source": [
    "averagedBR = origBR.groupby(np.arange(len(origBR))//512).mean()\n",
    "averagedHP = origHP.groupby(np.arange(len(origHP))//512).mean()\n",
    "averagedGT = origGT.groupby(np.arange(len(origGT))//512).mean()"
   ]
  },
  {
   "cell_type": "markdown",
   "metadata": {},
   "source": [
    "<hr><br>\n",
    "### Averaging values for every minute: "
   ]
  },
  {
   "cell_type": "code",
   "execution_count": 6,
   "metadata": {},
   "outputs": [],
   "source": [
    "averagedBRMin = origBR.groupby(np.arange(len(origBR))//30720).mean()\n",
    "averagedHPMin = origHP.groupby(np.arange(len(origHP))//30720).mean()\n",
    "averagedGTMin = origGT.groupby(np.arange(len(origGT))//30720).mean()"
   ]
  },
  {
   "cell_type": "markdown",
   "metadata": {},
   "source": [
    "<hr><br>\n",
    "### Engagement Calculation:\n",
    "- Findings by [1] suggest Index 1 [(Global Beta / (Global Alpha + Global Theta)] is the preferred algorithm for calculating the engagement levels of players playing video games.\n",
    "- So, this is the formula we'll be using to calculate player engagement levels amongst different rated games.\n",
    "\n",
    "Reference: \n",
    "- [1] McMahan, T., Parberry, I., & Parsons, T. D. (2015, June). Evaluating Electroencephalography Engagement Indices During Video Game Play. In FDG."
   ]
  },
  {
   "cell_type": "code",
   "execution_count": 7,
   "metadata": {},
   "outputs": [
    {
     "data": {
      "text/html": [
       "<iframe id=\"igraph\" scrolling=\"no\" style=\"border:none;\" seamless=\"seamless\" src=\"https://plot.ly/~ssin735/20.embed\" height=\"525px\" width=\"100%\"></iframe>"
      ],
      "text/plain": [
       "<plotly.tools.PlotlyDisplay object>"
      ]
     },
     "execution_count": 7,
     "metadata": {},
     "output_type": "execute_result"
    }
   ],
   "source": [
    "brEngMin = go.Scatter(\n",
    "                    y=(averagedBRMin['Low Beta'] + averagedBRMin['High Beta'])/\n",
    "                      (averagedBRMin['Theta'] + \n",
    "                       (averagedBRMin['Low Alpha'] + averagedBRMin['High Alpha'])), \n",
    "                    x=averagedBRMin['Time:512Hz'], # Data\n",
    "                    mode='lines', name='Big Rigs Engagement' # Additional options\n",
    "                   )\n",
    "\n",
    "hpEngMin = go.Scatter(\n",
    "                    y=(averagedHPMin['Low Beta'] + averagedHPMin['High Beta'])/\n",
    "                      (averagedHPMin['Theta'] + \n",
    "                       (averagedHPMin['Low Alpha'] + averagedHPMin['High Alpha'])), \n",
    "                    x=averagedHPMin['Time:512Hz'], # Data\n",
    "                    mode='lines', name='Hot Pursuit Engagement' # Additional options\n",
    "                   )\n",
    "\n",
    "\n",
    "gtEngMin = go.Scatter(\n",
    "                    y=(averagedGTMin['Low Beta'] + averagedGTMin['High Beta'])/\n",
    "                     (averagedGTMin['Theta'] + \n",
    "                       (averagedGTMin['Low Alpha'] + averagedGTMin['High Alpha'])), \n",
    "                    x=averagedGTMin['Time:512Hz'], # Data\n",
    "                    mode='lines', name='GTR2 Engagement' # Additional options\n",
    "                   )\n",
    "\n",
    "gameEngMin = go.Layout(title='Participants 6\\'s Engagement Data',\n",
    "                   plot_bgcolor='rgb(230, 230, 230)', \n",
    "                    xaxis=dict(\n",
    "                        title='Time (seconds)',\n",
    "                        titlefont=dict(\n",
    "                            family='Courier New, monospace',\n",
    "                            size=18,\n",
    "                            color='#7f7f7f'\n",
    "                        )\n",
    "                    ),\n",
    "                    yaxis=dict(\n",
    "                        title='Engagement Rate',\n",
    "                        titlefont=dict(\n",
    "                            family='Courier New, monospace',\n",
    "                            size=18,\n",
    "                            color='#7f7f7f'\n",
    "                        )\n",
    "                    )\n",
    "                   )\n",
    "\n",
    "fig_EngMin = go.Figure(data=[hpEngMin, brEngMin, gtEngMin], layout=gameEngMin)\n",
    "\n",
    "# Plot data in the notebook\n",
    "py.iplot(fig_EngMin, filename='plot-from-engMin-csv')"
   ]
  }
 ],
 "metadata": {
  "kernelspec": {
   "display_name": "Python 3",
   "language": "python",
   "name": "python3"
  },
  "language_info": {
   "codemirror_mode": {
    "name": "ipython",
    "version": 3
   },
   "file_extension": ".py",
   "mimetype": "text/x-python",
   "name": "python",
   "nbconvert_exporter": "python",
   "pygments_lexer": "ipython3",
   "version": "3.6.5"
  }
 },
 "nbformat": 4,
 "nbformat_minor": 2
}
